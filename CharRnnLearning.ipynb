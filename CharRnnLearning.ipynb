{
 "cells": [
  {
   "cell_type": "code",
   "execution_count": 2,
   "metadata": {},
   "outputs": [],
   "source": [
    "import numpy;\n",
    "from keras.models import Sequential;\n",
    "from keras.layers import Dense;\n",
    "from keras.layers import Dropout;\n",
    "from keras.layers import LSTM;\n",
    "from keras.callbacks import ModelCheckpoint;\n",
    "from keras.utils import np_utils;"
   ]
  },
  {
   "cell_type": "code",
   "execution_count": 3,
   "metadata": {},
   "outputs": [
    {
     "name": "stdout",
     "output_type": "stream",
     "text": [
      "['\\n', ' ', '!', '#', '$', '%', '(', ')', '*', ',', '-', '.', '/', '0', '1', '2', '3', '4', '5', '6', '7', '8', '9', ':', ';', '?', '@', '[', ']', '_', 'a', 'b', 'c', 'd', 'e', 'f', 'g', 'h', 'i', 'j', 'k', 'l', 'm', 'n', 'o', 'p', 'q', 'r', 's', 't', 'u', 'v', 'w', 'x', 'y', 'z', '‘', '’', '“', '”', '\\ufeff']\n",
      "111\n",
      "{'\\n': 0, ' ': 1, '!': 2, '#': 3, '$': 4, '%': 5, '(': 6, ')': 7, '*': 8, ',': 9, '-': 10, '.': 11, '/': 12, '0': 13, '1': 14, '2': 15, '3': 16, '4': 17, '5': 18, '6': 19, '7': 20, '8': 21, '9': 22, ':': 23, ';': 24, '?': 25, '@': 26, '[': 27, ']': 28, '_': 29, 'a': 30, 'b': 31, 'c': 32, 'd': 33, 'e': 34, 'f': 35, 'g': 36, 'h': 37, 'i': 38, 'j': 39, 'k': 40, 'l': 41, 'm': 42, 'n': 43, 'o': 44, 'p': 45, 'q': 46, 'r': 47, 's': 48, 't': 49, 'u': 50, 'v': 51, 'w': 52, 'x': 53, 'y': 54, 'z': 55, '‘': 56, '’': 57, '“': 58, '”': 59, '\\ufeff': 60}\n",
      "222\n",
      "{0: '\\n', 1: ' ', 2: '!', 3: '#', 4: '$', 5: '%', 6: '(', 7: ')', 8: '*', 9: ',', 10: '-', 11: '.', 12: '/', 13: '0', 14: '1', 15: '2', 16: '3', 17: '4', 18: '5', 19: '6', 20: '7', 21: '8', 22: '9', 23: ':', 24: ';', 25: '?', 26: '@', 27: '[', 28: ']', 29: '_', 30: 'a', 31: 'b', 32: 'c', 33: 'd', 34: 'e', 35: 'f', 36: 'g', 37: 'h', 38: 'i', 39: 'j', 40: 'k', 41: 'l', 42: 'm', 43: 'n', 44: 'o', 45: 'p', 46: 'q', 47: 'r', 48: 's', 49: 't', 50: 'u', 51: 'v', 52: 'w', 53: 'x', 54: 'y', 55: 'z', 56: '‘', 57: '’', 58: '“', 59: '”', 60: '\\ufeff'}\n"
     ]
    }
   ],
   "source": [
    "#文本读入\n",
    "raw_text = open('/Users/hcnucai/Documents/KevinSwift/机器学习资料/02-自然语言处理班视频教程附讲义代码/课件资料/DLinNLP/input/Winston_Churchil.txt').read();\n",
    "raw_text = raw_text.lower();\n",
    "#用one-hot编码\n",
    "char = sorted(list(set(raw_text)));\n",
    "char_to_int = dict((c,i) for i,c in enumerate(char));\n",
    "int_to_char = dict((i,c) for i,c in enumerate(char));\n",
    "print (char);\n",
    "print (111);\n",
    "print(char_to_int);\n",
    "print(222);\n",
    "print(int_to_char);"
   ]
  },
  {
   "cell_type": "code",
   "execution_count": 4,
   "metadata": {},
   "outputs": [
    {
     "name": "stdout",
     "output_type": "stream",
     "text": [
      "[[60, 45, 47, 44, 39, 34, 32, 49, 1, 36, 50, 49, 34, 43, 31, 34, 47, 36, 57, 48, 1, 47, 34, 30, 41, 1, 48, 44, 41, 33, 38, 34, 47, 48, 1, 44, 35, 1, 35, 44, 47, 49, 50, 43, 34, 9, 1, 31, 54, 1, 47, 38, 32, 37, 30, 47, 33, 1, 37, 30, 47, 33, 38, 43, 36, 1, 33, 30, 51, 38, 48, 0, 0, 49, 37, 38, 48, 1, 34, 31, 44, 44, 40, 1, 38, 48, 1, 35, 44, 47, 1, 49, 37, 34, 1, 50, 48, 34, 1, 44], [45, 47, 44, 39, 34, 32, 49, 1, 36, 50, 49, 34, 43, 31, 34, 47, 36, 57, 48, 1, 47, 34, 30, 41, 1, 48, 44, 41, 33, 38, 34, 47, 48, 1, 44, 35, 1, 35, 44, 47, 49, 50, 43, 34, 9, 1, 31, 54, 1, 47, 38, 32, 37, 30, 47, 33, 1, 37, 30, 47, 33, 38, 43, 36, 1, 33, 30, 51, 38, 48, 0, 0, 49, 37, 38, 48, 1, 34, 31, 44, 44, 40, 1, 38, 48, 1, 35, 44, 47, 1, 49, 37, 34, 1, 50, 48, 34, 1, 44, 35], [47, 44, 39, 34, 32, 49, 1, 36, 50, 49, 34, 43, 31, 34, 47, 36, 57, 48, 1, 47, 34, 30, 41, 1, 48, 44, 41, 33, 38, 34, 47, 48, 1, 44, 35, 1, 35, 44, 47, 49, 50, 43, 34, 9, 1, 31, 54, 1, 47, 38, 32, 37, 30, 47, 33, 1, 37, 30, 47, 33, 38, 43, 36, 1, 33, 30, 51, 38, 48, 0, 0, 49, 37, 38, 48, 1, 34, 31, 44, 44, 40, 1, 38, 48, 1, 35, 44, 47, 1, 49, 37, 34, 1, 50, 48, 34, 1, 44, 35, 1]]\n",
      "[35, 1, 30]\n"
     ]
    }
   ],
   "source": [
    "#构造训练集和测试集\n",
    "seq_length = 100;\n",
    "x = [];\n",
    "y = [];\n",
    "for i in range(0,len(raw_text) - seq_length):\n",
    "    given = raw_text[i:i + seq_length];\n",
    "    predict = raw_text[i + seq_length];\n",
    "    x.append([char_to_int[char] for char in given])\n",
    "    y.append(char_to_int[predict]);\n",
    "print (x[:3]);\n",
    "print (y[:3]);\n"
   ]
  },
  {
   "cell_type": "code",
   "execution_count": 5,
   "metadata": {},
   "outputs": [
    {
     "name": "stdout",
     "output_type": "stream",
     "text": [
      "[[ 0.80327869]\n",
      " [ 0.55737705]\n",
      " [ 0.70491803]\n",
      " [ 0.50819672]\n",
      " [ 0.55737705]\n",
      " [ 0.7704918 ]\n",
      " [ 0.59016393]\n",
      " [ 0.93442623]\n",
      " [ 0.78688525]\n",
      " [ 0.01639344]\n",
      " [ 0.7704918 ]\n",
      " [ 0.55737705]\n",
      " [ 0.49180328]\n",
      " [ 0.67213115]\n",
      " [ 0.01639344]\n",
      " [ 0.78688525]\n",
      " [ 0.72131148]\n",
      " [ 0.67213115]\n",
      " [ 0.54098361]\n",
      " [ 0.62295082]\n",
      " [ 0.55737705]\n",
      " [ 0.7704918 ]\n",
      " [ 0.78688525]\n",
      " [ 0.01639344]\n",
      " [ 0.72131148]\n",
      " [ 0.57377049]\n",
      " [ 0.01639344]\n",
      " [ 0.57377049]\n",
      " [ 0.72131148]\n",
      " [ 0.7704918 ]\n",
      " [ 0.80327869]\n",
      " [ 0.81967213]\n",
      " [ 0.70491803]\n",
      " [ 0.55737705]\n",
      " [ 0.14754098]\n",
      " [ 0.01639344]\n",
      " [ 0.50819672]\n",
      " [ 0.8852459 ]\n",
      " [ 0.01639344]\n",
      " [ 0.7704918 ]\n",
      " [ 0.62295082]\n",
      " [ 0.52459016]\n",
      " [ 0.60655738]\n",
      " [ 0.49180328]\n",
      " [ 0.7704918 ]\n",
      " [ 0.54098361]\n",
      " [ 0.01639344]\n",
      " [ 0.60655738]\n",
      " [ 0.49180328]\n",
      " [ 0.7704918 ]\n",
      " [ 0.54098361]\n",
      " [ 0.62295082]\n",
      " [ 0.70491803]\n",
      " [ 0.59016393]\n",
      " [ 0.01639344]\n",
      " [ 0.54098361]\n",
      " [ 0.49180328]\n",
      " [ 0.83606557]\n",
      " [ 0.62295082]\n",
      " [ 0.78688525]\n",
      " [ 0.        ]\n",
      " [ 0.        ]\n",
      " [ 0.80327869]\n",
      " [ 0.60655738]\n",
      " [ 0.62295082]\n",
      " [ 0.78688525]\n",
      " [ 0.01639344]\n",
      " [ 0.55737705]\n",
      " [ 0.50819672]\n",
      " [ 0.72131148]\n",
      " [ 0.72131148]\n",
      " [ 0.6557377 ]\n",
      " [ 0.01639344]\n",
      " [ 0.62295082]\n",
      " [ 0.78688525]\n",
      " [ 0.01639344]\n",
      " [ 0.57377049]\n",
      " [ 0.72131148]\n",
      " [ 0.7704918 ]\n",
      " [ 0.01639344]\n",
      " [ 0.80327869]\n",
      " [ 0.60655738]\n",
      " [ 0.55737705]\n",
      " [ 0.01639344]\n",
      " [ 0.81967213]\n",
      " [ 0.78688525]\n",
      " [ 0.55737705]\n",
      " [ 0.01639344]\n",
      " [ 0.72131148]\n",
      " [ 0.57377049]\n",
      " [ 0.01639344]\n",
      " [ 0.49180328]\n",
      " [ 0.70491803]\n",
      " [ 0.8852459 ]\n",
      " [ 0.72131148]\n",
      " [ 0.70491803]\n",
      " [ 0.55737705]\n",
      " [ 0.01639344]\n",
      " [ 0.49180328]\n",
      " [ 0.70491803]]\n",
      "[ 0.  0.  0.  0.  0.  0.  0.  0.  0.  0.  0.  0.  0.  0.  0.  0.  0.  0.\n",
      "  0.  0.  0.  0.  0.  0.  0.  0.  0.  0.  0.  0.  0.  0.  0.  0.  0.  0.\n",
      "  0.  0.  0.  0.  0.  0.  0.  0.  0.  0.  0.  0.  0.  0.  0.  0.  0.  0.\n",
      "  1.  0.  0.  0.  0.  0.]\n"
     ]
    }
   ],
   "source": [
    "n_patterns = len(x)\n",
    "n_vocab = len(char)\n",
    "\n",
    "# 把x变成LSTM需要的样子\n",
    "x = numpy.reshape(x, (n_patterns, seq_length, 1))\n",
    "# 简单normal到0-1之间\n",
    "x = x / float(n_vocab)\n",
    "# output变成one-hot\n",
    "y = np_utils.to_categorical(y)\n",
    "print (x[11]);\n",
    "print (y[11]);"
   ]
  },
  {
   "cell_type": "code",
   "execution_count": null,
   "metadata": {},
   "outputs": [
    {
     "name": "stdout",
     "output_type": "stream",
     "text": [
      "Epoch 1/50\n",
      " 12288/276730 [>.............................] - ETA: 1:42:21 - loss: 4.0628"
     ]
    }
   ],
   "source": [
    "#lstm模型构造\n",
    "model = Sequential();\n",
    "model.add(LSTM(256,input_shape = (x.shape[1],x.shape[2])));\n",
    "model.add(Dropout(0.2));\n",
    "model.add(Dense(y.shape[1],activation = 'softmax'));\n",
    "model.compile(loss='categorical_crossentropy', optimizer='adam')\n",
    "model.fit(x, y, epochs=50, batch_size=4096)"
   ]
  },
  {
   "cell_type": "code",
   "execution_count": 1,
   "metadata": {},
   "outputs": [
    {
     "ename": "SyntaxError",
     "evalue": "unexpected EOF while parsing (<ipython-input-1-064d55628846>, line 1)",
     "output_type": "error",
     "traceback": [
      "\u001b[0;36m  File \u001b[0;32m\"<ipython-input-1-064d55628846>\"\u001b[0;36m, line \u001b[0;32m1\u001b[0m\n\u001b[0;31m    def predict_next(input_array):\u001b[0m\n\u001b[0m                                  ^\u001b[0m\n\u001b[0;31mSyntaxError\u001b[0m\u001b[0;31m:\u001b[0m unexpected EOF while parsing\n"
     ]
    }
   ],
   "source": [
    "def predict_next(input_array):\n",
    "    x = numpy.reshape(input_array,(1,seq_length,1));\n",
    "    x = x / float(n_vocab);\n",
    "    return model.predict(x);\n",
    "def string_to_index(raw_input):\n",
    "    res = p[];\n",
    "    for c in raw_input[(len(raw_input) - seq_length):]:\n",
    "        res.append(char_to_int[c]);\n",
    "        return res;\n",
    "def y_to_char(y):\n",
    "    largest_index = y.argmax();\n",
    "    c = int_to_char[largest_index];\n",
    "    return c;\n",
    "def generate_article(init,rounds = 200):\n",
    "    in_string = init.lower();\n",
    "    for i in range(rounds):\n",
    "        n = y_to_char(predict_next(string_to_index(in_string)));\n",
    "        in_string += n;\n",
    "    return in_string;\n",
    "    "
   ]
  },
  {
   "cell_type": "code",
   "execution_count": null,
   "metadata": {},
   "outputs": [],
   "source": []
  }
 ],
 "metadata": {
  "kernelspec": {
   "display_name": "Python 2",
   "language": "python",
   "name": "python2"
  },
  "language_info": {
   "codemirror_mode": {
    "name": "ipython",
    "version": 2
   },
   "file_extension": ".py",
   "mimetype": "text/x-python",
   "name": "python",
   "nbconvert_exporter": "python",
   "pygments_lexer": "ipython2",
   "version": "2.7.14"
  }
 },
 "nbformat": 4,
 "nbformat_minor": 2
}
