{
 "cells": [
  {
   "cell_type": "code",
   "execution_count": 9,
   "metadata": {},
   "outputs": [
    {
     "name": "stdout",
     "output_type": "stream",
     "text": [
      "i am happy today,i fell sad today\n",
      "Sentiment(polarity=0.15000000000000002, subjectivity=1.0)\n"
     ]
    }
   ],
   "source": [
    "from textblob import TextBlob;\n",
    "#准备英文数据\n",
    "text = \"I am happy today. I feel sad today.\";\n",
    "blob = TextBlob(text);\n",
    "print(blob);\n",
    "#已经分词\n",
    "blob.sentences;\n",
    "#进行情感分析\n",
    "blob.sentences[0].sentiment;\n",
    "#第二句\n",
    "blob.sentences[1].sentiment;\n",
    "#综合分析整段文本的情感\n",
    "print(blob.sentiment);\n"
   ]
  },
  {
   "cell_type": "code",
   "execution_count": 8,
   "metadata": {},
   "outputs": [
    {
     "name": "stdout",
     "output_type": "stream",
     "text": [
      "我今天很快乐\n",
      "我今天很愤怒\n"
     ]
    }
   ],
   "source": [
    "#中文分词 u表示输入的文本编码格式是unicode\n",
    "text = u'我今天很快乐，我今天很愤怒';\n",
    "from snownlp import SnowNLP;\n",
    "s = SnowNLP(text);\n",
    "for sentence in s.sentences:\n",
    "    print(sentence);\n",
    "#第一句进行情感分析\n",
    "s1 = SnowNLP(s.sentences[0]);\n",
    "s1.sentiments;\n",
    "s2 = SnowNLP(s.sentences[1]);\n",
    "s2.sentiments;"
   ]
  },
  {
   "cell_type": "code",
   "execution_count": null,
   "metadata": {},
   "outputs": [],
   "source": []
  },
  {
   "cell_type": "code",
   "execution_count": null,
   "metadata": {},
   "outputs": [],
   "source": []
  }
 ],
 "metadata": {
  "kernelspec": {
   "display_name": "Python 2",
   "language": "python",
   "name": "python2"
  },
  "language_info": {
   "codemirror_mode": {
    "name": "ipython",
    "version": 2
   },
   "file_extension": ".py",
   "mimetype": "text/x-python",
   "name": "python",
   "nbconvert_exporter": "python",
   "pygments_lexer": "ipython2",
   "version": "2.7.14"
  }
 },
 "nbformat": 4,
 "nbformat_minor": 2
}
