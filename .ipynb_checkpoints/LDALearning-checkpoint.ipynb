{
 "cells": [
  {
   "cell_type": "code",
   "execution_count": 42,
   "metadata": {},
   "outputs": [],
   "source": [
    "import numpy as np\n",
    "import pandas as pd\n",
    "import re"
   ]
  },
  {
   "cell_type": "code",
   "execution_count": 43,
   "metadata": {},
   "outputs": [],
   "source": [
    "#使用pandas进行处理\n",
    "df = pd.read_csv(\"/Users/hcnucai/Documents/KevinSwift/机器学习资料/02-自然语言处理班视频教程附讲义代码/课件资料/主题模型课件与资料/input/HillaryEmails.csv\");\n",
    "#将原始文件中的很多Nan值 扔掉\n",
    "df = df[['Id','ExtractedBodyText']].dropna();\n",
    "#进行文本预处理 用正则表达式\n",
    "def clean_email_text(text):\n",
    "    text = text.replace('\\n',\" \");\n",
    "    text =  re.sub(r\"-\", \" \", text)\n",
    "    text = re.sub(r\"\\d+/\\d+/\\d+\", \"\", text) #日期，对主体模型没什么意义\n",
    "    text = re.sub(r\"[0-2]?[0-9]:[0-6][0-9]\", \"\", text) #时间，没意义\n",
    "    text = re.sub(r\"[\\w]+@[\\.\\w]+\", \"\", text) #邮件地址，没意义\n",
    "    text =  re.sub(r\"/[a-zA-Z]*[:\\//\\]*[A-Za-z0-9\\-_]+\\.+[A-Za-z0-9\\.\\/%&=\\?\\-_]+/i\", \"\", text) #网址，没意义\n",
    "    pure_text = '';\n",
    "    #以防还有其他特殊字符 直接loop一遍 过滤掉\n",
    "    for letter in text:\n",
    "        #只留下字母和空格\n",
    "        if letter.isalpha() or letter == ' ':\n",
    "            pure_text += letter;\n",
    "    #再把去除特殊字符后落单的单词 直接排除 就剩下有意义的单词\n",
    "    text = ' '.join(word for word in pure_text.split() if len(word) > 1)\n",
    "    return text;\n",
    "            "
   ]
  },
  {
   "cell_type": "code",
   "execution_count": 44,
   "metadata": {},
   "outputs": [
    {
     "name": "stdout",
     "output_type": "stream",
     "text": [
      "['To all the little girls watchingnever doubt that you are valuable and powerful deserving of every chance opportunity in the world']\n"
     ]
    }
   ],
   "source": [
    "#新建一列 \n",
    "docs = df['ExtractedBodyText'];\n",
    "docs = docs.apply(lambda s:clean_email_text(s));\n",
    "print (docs.head(1).values);"
   ]
  },
  {
   "cell_type": "code",
   "execution_count": 45,
   "metadata": {},
   "outputs": [
    {
     "name": "stdout",
     "output_type": "stream",
     "text": [
      "0     To all the little girls watchingnever doubt th...\n",
      "1     was greeted by this heartwarming display on th...\n",
      "2     Hoping everyone has safe Happy Thanksgiving to...\n",
      "3     Scripture tells us Let us not grow weary in do...\n",
      "4     Let us have faith in each other Let us not gro...\n",
      "5     We have still have not shattered that highest ...\n",
      "6     To Barack and Michelle Obama our country owes ...\n",
      "7     Our constitutional democracy demands our parti...\n",
      "8     You represent the best of America and being yo...\n",
      "9     Last night congratulated Donald Trump and offe...\n",
      "10    Already voted Thats great Now help Hillary win...\n",
      "11    Its Election Day Millions of Americans have ca...\n",
      "12    We dont want to shrink the vision of this coun...\n",
      "13    We have chance to elect th president who will ...\n",
      "14    love our country and believe in our people and...\n",
      "Name: ExtractedBodyText, dtype: object\n"
     ]
    }
   ],
   "source": [
    "print (docs);"
   ]
  },
  {
   "cell_type": "code",
   "execution_count": 46,
   "metadata": {},
   "outputs": [],
   "source": [
    "#把values 全部拿出来\n",
    "doclist = docs.values;\n",
    "#利用gensim 做模型构建\n",
    "\"\"\"\n",
    "[[一条邮件字符串]，[另一条邮件字符串], ...]\n",
    "转化成Gensim认可的语料库形式：\n",
    "\n",
    "[[一，条，邮件，在，这里],[第，二，条，邮件，在，这里],[今天，天气，肿么，样],...]\n",
    "\"\"\"\n",
    "from gensim import corpora,models,similarities;\n",
    "import gensim;"
   ]
  },
  {
   "cell_type": "code",
   "execution_count": 47,
   "metadata": {},
   "outputs": [],
   "source": [
    "#首先停止次列表 即去除无用的词\n",
    "stoplist = ['very', 'ourselves', 'am', 'doesn', 'through', 'me', 'against', 'up', 'just', 'her', 'ours', \n",
    "            'couldn', 'because', 'is', 'isn', 'it', 'only', 'in', 'such', 'too', 'mustn', 'under', 'their', \n",
    "            'if', 'to', 'my', 'himself', 'after', 'why', 'while', 'can', 'each', 'itself', 'his', 'all', 'once', \n",
    "            'herself', 'more', 'our', 'they', 'hasn', 'on', 'ma', 'them', 'its', 'where', 'did', 'll', 'you', \n",
    "            'didn', 'nor', 'as', 'now', 'before', 'those', 'yours', 'from', 'who', 'was', 'm', 'been', 'will', \n",
    "            'into', 'same', 'how', 'some', 'of', 'out', 'with', 's', 'being', 't', 'mightn', 'she', 'again', 'be', \n",
    "            'by', 'shan', 'have', 'yourselves', 'needn', 'and', 'are', 'o', 'these', 'further', 'most', 'yourself', \n",
    "            'having', 'aren', 'here', 'he', 'were', 'but', 'this', 'myself', 'own', 'we', 'so', 'i', 'does', 'both', \n",
    "            'when', 'between', 'd', 'had', 'the', 'y', 'has', 'down', 'off', 'than', 'haven', 'whom', 'wouldn', \n",
    "            'should', 've', 'over', 'themselves', 'few', 'then', 'hadn', 'what', 'until', 'won', 'no', 'about', \n",
    "            'any', 'that', 'for', 'shouldn', 'don', 'do', 'there', 'doing', 'an', 'or', 'ain', 'hers', 'wasn', \n",
    "            'weren', 'above', 'a', 'at', 'your', 'theirs', 'below', 'other', 'not', 're', 'him', 'during', 'which']"
   ]
  },
  {
   "cell_type": "code",
   "execution_count": 48,
   "metadata": {},
   "outputs": [],
   "source": [
    "#进行中文分词 hanlp 或者jieba 进行分词 英文直接空格分词即可\n",
    "texts = [[word for word in doc.lower().split() if word not in stoplist] for doc in doclist];"
   ]
  },
  {
   "cell_type": "code",
   "execution_count": 49,
   "metadata": {},
   "outputs": [
    {
     "name": "stdout",
     "output_type": "stream",
     "text": [
      "['little', 'girls', 'watchingnever', 'doubt', 'valuable', 'powerful', 'deserving', 'every', 'chance', 'opportunity', 'world']\n"
     ]
    }
   ],
   "source": [
    "print (texts[0]);"
   ]
  },
  {
   "cell_type": "code",
   "execution_count": 50,
   "metadata": {},
   "outputs": [],
   "source": [
    "#建立语料库 用词袋的方法 每个单词用一个数字Index指代\n",
    "dic = corpora.Dictionary(texts);\n",
    "corpus = [dic.doc2bow(text) for text in texts];\n",
    "\n",
    "#表示第一个邮件中 一共有几个有意义的次 并且几号单词出现了几次"
   ]
  },
  {
   "cell_type": "code",
   "execution_count": 51,
   "metadata": {},
   "outputs": [
    {
     "data": {
      "text/plain": [
       "[(0,\n",
       "  '0.008*\"night\" + 0.008*\"donald\" + 0.008*\"trump\" + 0.008*\"last\" + 0.008*\"calls\"'),\n",
       " (1,\n",
       "  '0.008*\"night\" + 0.008*\"donald\" + 0.008*\"trump\" + 0.008*\"last\" + 0.008*\"calls\"'),\n",
       " (2,\n",
       "  '0.008*\"night\" + 0.008*\"donald\" + 0.008*\"trump\" + 0.008*\"last\" + 0.008*\"calls\"'),\n",
       " (3,\n",
       "  '0.074*\"life\" + 0.074*\"honors\" + 0.074*\"best\" + 0.074*\"one\" + 0.074*\"greatest\"'),\n",
       " (4,\n",
       "  '0.133*\"let\" + 0.104*\"us\" + 0.049*\"heart\" + 0.046*\"weary\" + 0.046*\"come\"'),\n",
       " (5,\n",
       "  '0.008*\"night\" + 0.008*\"donald\" + 0.008*\"trump\" + 0.008*\"last\" + 0.008*\"calls\"'),\n",
       " (6, '0.134*\"us\" + 0.081*\"let\" + 0.057*\"grow\" + 0.054*\"lose\" + 0.054*\"weary\"'),\n",
       " (7,\n",
       "  '0.040*\"leadership\" + 0.040*\"determined\" + 0.040*\"graceful\" + 0.040*\"enormous\" + 0.040*\"years\"'),\n",
       " (8,\n",
       "  '0.008*\"night\" + 0.008*\"donald\" + 0.008*\"trump\" + 0.008*\"last\" + 0.008*\"calls\"'),\n",
       " (9,\n",
       "  '0.069*\"last\" + 0.069*\"donald\" + 0.069*\"night\" + 0.069*\"country\" + 0.069*\"work\"'),\n",
       " (10,\n",
       "  '0.008*\"night\" + 0.008*\"donald\" + 0.008*\"trump\" + 0.008*\"last\" + 0.008*\"calls\"'),\n",
       " (11,\n",
       "  '0.031*\"matter\" + 0.031*\"doubt\" + 0.031*\"chance\" + 0.031*\"opportunity\" + 0.031*\"today\"'),\n",
       " (12,\n",
       "  '0.040*\"thanksgiving\" + 0.040*\"great\" + 0.040*\"safe\" + 0.040*\"time\" + 0.040*\"already\"'),\n",
       " (13,\n",
       "  '0.008*\"night\" + 0.008*\"donald\" + 0.008*\"trump\" + 0.008*\"last\" + 0.008*\"calls\"'),\n",
       " (14,\n",
       "  '0.008*\"night\" + 0.008*\"donald\" + 0.008*\"trump\" + 0.008*\"last\" + 0.008*\"calls\"'),\n",
       " (15,\n",
       "  '0.008*\"night\" + 0.008*\"donald\" + 0.008*\"trump\" + 0.008*\"last\" + 0.008*\"calls\"'),\n",
       " (16,\n",
       "  '0.093*\"want\" + 0.047*\"shrink\" + 0.047*\"elect\" + 0.047*\"keep\" + 0.047*\"build\"'),\n",
       " (17,\n",
       "  '0.089*\"day\" + 0.045*\"highest\" + 0.045*\"glass\" + 0.045*\"someone\" + 0.045*\"shattered\"'),\n",
       " (18,\n",
       "  '0.008*\"night\" + 0.008*\"donald\" + 0.008*\"trump\" + 0.008*\"last\" + 0.008*\"calls\"'),\n",
       " (19,\n",
       "  '0.008*\"night\" + 0.008*\"donald\" + 0.008*\"trump\" + 0.008*\"last\" + 0.008*\"calls\"')]"
      ]
     },
     "execution_count": 51,
     "metadata": {},
     "output_type": "execute_result"
    }
   ],
   "source": [
    "#建立模型 由于书无监督学习 因此要定义好是几个主题 id2word是对照表\n",
    "lda = gensim.models.ldamodel.LdaModel(corpus = corpus,id2word = dic,num_topics=20)\n",
    "lda.print_topic(10,topn = 5)\n",
    "#第10号分类中 最经常出现的5个单词\n",
    "#把所有的主题都打印出来\n",
    "lda.print_topics(num_topics=20, num_words=5)"
   ]
  },
  {
   "cell_type": "code",
   "execution_count": 52,
   "metadata": {},
   "outputs": [
    {
     "name": "stdout",
     "output_type": "stream",
     "text": [
      "document-topic:\n",
      "\n",
      "[('trump', 0.00813008), ('calls', 0.00813008), ('donald', 0.00813008), ('last', 0.00813008), ('night', 0.00813008), ('offered', 0.00813008), ('behalf', 0.00813008), ('already', 0.00813008), ('make', 0.00813008), ('help', 0.00813008)]\n",
      "document-topic:\n",
      "\n",
      "[('trump', 0.00813008), ('calls', 0.00813008), ('donald', 0.00813008), ('last', 0.00813008), ('night', 0.00813008), ('offered', 0.00813008), ('behalf', 0.00813008), ('already', 0.00813008), ('make', 0.00813008), ('help', 0.00813008)]\n",
      "document-topic:\n",
      "\n",
      "[('trump', 0.00813008), ('calls', 0.00813008), ('donald', 0.00813008), ('last', 0.00813008), ('night', 0.00813008), ('offered', 0.00813008), ('behalf', 0.00813008), ('already', 0.00813008), ('make', 0.00813008), ('help', 0.00813008)]\n",
      "document-topic:\n",
      "\n",
      "[('life', 0.074204944), ('honors', 0.074204944), ('candidate', 0.07420494), ('america', 0.07420494), ('represent', 0.07420494), ('greatest', 0.07420494), ('one', 0.07420494), ('best', 0.07420494), ('offered', 0.0035335685), ('trump', 0.0035335685)]\n",
      "document-topic:\n",
      "\n",
      "[('let', 0.13307013), ('us', 0.1036719), ('heart', 0.04856105), ('weary', 0.04591579), ('come', 0.045515507), ('lose', 0.044392683), ('work', 0.043642424), ('faith', 0.039826065), ('grow', 0.039410736), ('andmore', 0.03869965)]\n",
      "document-topic:\n",
      "\n",
      "[('trump', 0.00813008), ('calls', 0.00813008), ('donald', 0.00813008), ('last', 0.00813008), ('night', 0.00813008), ('offered', 0.00813008), ('behalf', 0.00813008), ('already', 0.00813008), ('make', 0.00813008), ('help', 0.00813008)]\n",
      "document-topic:\n",
      "\n",
      "[('us', 0.13434097), ('let', 0.080760285), ('grow', 0.057112347), ('lose', 0.0543833), ('weary', 0.053548973), ('heart', 0.052099925), ('tells', 0.03935053), ('reap', 0.03935053), ('due', 0.03935053), ('scripture', 0.03935053)]\n",
      "document-topic:\n",
      "\n",
      "[('leadership', 0.04015297), ('gratitude', 0.040152967), ('barack', 0.040152967), ('country', 0.040152967), ('years', 0.040152967), ('debt', 0.040152967), ('determined', 0.040152967), ('enormous', 0.040152967), ('graceful', 0.040152967), ('thank', 0.040152967)]\n",
      "document-topic:\n",
      "\n",
      "[('trump', 0.00813008), ('calls', 0.00813008), ('donald', 0.00813008), ('last', 0.00813008), ('night', 0.00813008), ('offered', 0.00813008), ('behalf', 0.00813008), ('already', 0.00813008), ('make', 0.00813008), ('help', 0.00813008)]\n",
      "document-topic:\n",
      "\n",
      "[('country', 0.06930693), ('trump', 0.06930693), ('work', 0.06930693), ('donald', 0.06930693), ('last', 0.06930693), ('night', 0.06930693), ('offered', 0.06930693), ('behalf', 0.06930693), ('congratulated', 0.069306925), ('help', 0.0033003304)]\n",
      "document-topic:\n",
      "\n",
      "[('trump', 0.00813008), ('calls', 0.00813008), ('donald', 0.00813008), ('last', 0.00813008), ('night', 0.00813008), ('offered', 0.00813008), ('behalf', 0.00813008), ('already', 0.00813008), ('make', 0.00813008), ('help', 0.00813008)]\n",
      "document-topic:\n",
      "\n",
      "[('doubt', 0.030746713), ('matter', 0.030746713), ('opportunity', 0.030746713), ('chance', 0.030746713), ('deserving', 0.03074671), ('love', 0.03074671), ('thanksgiving', 0.03074671), ('today', 0.03074671), ('country', 0.03074671), ('street', 0.03074671)]\n",
      "document-topic:\n",
      "\n",
      "[('great', 0.040152963), ('thanksgiving', 0.040152963), ('already', 0.04015296), ('friends', 0.04015296), ('hoping', 0.04015296), ('quality', 0.04015296), ('safe', 0.04015296), ('time', 0.04015296), ('everyone', 0.04015296), ('make', 0.04015296)]\n",
      "document-topic:\n",
      "\n",
      "[('trump', 0.00813008), ('calls', 0.00813008), ('donald', 0.00813008), ('last', 0.00813008), ('night', 0.00813008), ('offered', 0.00813008), ('behalf', 0.00813008), ('already', 0.00813008), ('make', 0.00813008), ('help', 0.00813008)]\n",
      "document-topic:\n",
      "\n",
      "[('trump', 0.00813008), ('calls', 0.00813008), ('donald', 0.00813008), ('last', 0.00813008), ('night', 0.00813008), ('offered', 0.00813008), ('behalf', 0.00813008), ('already', 0.00813008), ('make', 0.00813008), ('help', 0.00813008)]\n",
      "document-topic:\n",
      "\n",
      "[('trump', 0.00813008), ('calls', 0.00813008), ('donald', 0.00813008), ('last', 0.00813008), ('night', 0.00813008), ('offered', 0.00813008), ('behalf', 0.00813008), ('already', 0.00813008), ('make', 0.00813008), ('help', 0.00813008)]\n",
      "document-topic:\n",
      "\n",
      "[('want', 0.09255079), ('shrink', 0.047404066), ('elect', 0.047404066), ('progress', 0.04740406), ('build', 0.04740406), ('finish', 0.04740406), ('keep', 0.04740406), ('president', 0.04740406), ('th', 0.04740406), ('dont', 0.04740406)]\n",
      "document-topic:\n",
      "\n",
      "[('day', 0.088552915), ('hillaryjoin', 0.04535637), ('confirm', 0.04535637), ('ceiling', 0.04535637), ('glass', 0.04535637), ('millions', 0.04535637), ('highest', 0.04535637), ('shattered', 0.04535637), ('someone', 0.04535637), ('still', 0.04535637)]\n",
      "document-topic:\n",
      "\n",
      "[('trump', 0.00813008), ('calls', 0.00813008), ('donald', 0.00813008), ('last', 0.00813008), ('night', 0.00813008), ('offered', 0.00813008), ('behalf', 0.00813008), ('already', 0.00813008), ('make', 0.00813008), ('help', 0.00813008)]\n",
      "document-topic:\n",
      "\n",
      "[('trump', 0.00813008), ('calls', 0.00813008), ('donald', 0.00813008), ('last', 0.00813008), ('night', 0.00813008), ('offered', 0.00813008), ('behalf', 0.00813008), ('already', 0.00813008), ('make', 0.00813008), ('help', 0.00813008)]\n"
     ]
    }
   ],
   "source": [
    "#把新鲜的文本/单词 分类成20个主题汇总的一个\n",
    "for topic_id in range(20):\n",
    "    print ('document-topic:\\n');\n",
    "    print (lda.show_topic(topic_id));"
   ]
  },
  {
   "cell_type": "code",
   "execution_count": null,
   "metadata": {},
   "outputs": [],
   "source": []
  },
  {
   "cell_type": "code",
   "execution_count": null,
   "metadata": {},
   "outputs": [],
   "source": []
  },
  {
   "cell_type": "code",
   "execution_count": null,
   "metadata": {},
   "outputs": [],
   "source": []
  }
 ],
 "metadata": {
  "kernelspec": {
   "display_name": "Python 3",
   "language": "python",
   "name": "python3"
  },
  "language_info": {
   "codemirror_mode": {
    "name": "ipython",
    "version": 3
   },
   "file_extension": ".py",
   "mimetype": "text/x-python",
   "name": "python",
   "nbconvert_exporter": "python",
   "pygments_lexer": "ipython3",
   "version": "3.6.5"
  }
 },
 "nbformat": 4,
 "nbformat_minor": 2
}
