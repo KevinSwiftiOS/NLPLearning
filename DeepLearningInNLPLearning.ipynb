{
 "cells": [
  {
   "cell_type": "code",
   "execution_count": 6,
   "metadata": {},
   "outputs": [],
   "source": [
    "#用每日新闻预测金融市场变化\n",
    "import pandas as pd;\n",
    "import numpy as np;\n",
    "from sklearn.metrics import roc_auc_score;\n",
    "from datetime import date;"
   ]
  },
  {
   "cell_type": "code",
   "execution_count": 7,
   "metadata": {},
   "outputs": [],
   "source": [
    "#读入数据"
   ]
  },
  {
   "cell_type": "code",
   "execution_count": 9,
   "metadata": {},
   "outputs": [
    {
     "name": "stdout",
     "output_type": "stream",
     "text": [
      "         Date  Label                                               Top1  \\\n",
      "0  2008-08-08      0  b\"Georgia 'downs two Russian warplanes' as cou...   \n",
      "1  2008-08-11      1  b'Why wont America and Nato help us? If they w...   \n",
      "2  2008-08-12      0  b'Remember that adorable 9-year-old who sang a...   \n",
      "3  2008-08-13      0  b' U.S. refuses Israel weapons to attack Iran:...   \n",
      "4  2008-08-14      1  b'All the experts admit that we should legalis...   \n",
      "\n",
      "                                                Top2  \\\n",
      "0            b'BREAKING: Musharraf to be impeached.'   \n",
      "1        b'Bush puts foot down on Georgian conflict'   \n",
      "2                 b\"Russia 'ends Georgia operation'\"   \n",
      "3  b\"When the president ordered to attack Tskhinv...   \n",
      "4  b'War in South Osetia - 89 pictures made by a ...   \n",
      "\n",
      "                                                Top3  \\\n",
      "0  b'Russia Today: Columns of troops roll into So...   \n",
      "1  b\"Jewish Georgian minister: Thanks to Israeli ...   \n",
      "2  b'\"If we had no sexual harassment we would hav...   \n",
      "3  b' Israel clears troops who killed Reuters cam...   \n",
      "4  b'Swedish wrestler Ara Abrahamian throws away ...   \n",
      "\n",
      "                                                Top4  \\\n",
      "0  b'Russian tanks are moving towards the capital...   \n",
      "1  b'Georgian army flees in disarray as Russians ...   \n",
      "2  b\"Al-Qa'eda is losing support in Iraq because ...   \n",
      "3  b'Britain\\'s policy of being tough on drugs is...   \n",
      "4  b'Russia exaggerated the death toll in South O...   \n",
      "\n",
      "                                                Top5  \\\n",
      "0  b\"Afghan children raped with 'impunity,' U.N. ...   \n",
      "1      b\"Olympic opening ceremony fireworks 'faked'\"   \n",
      "2  b'Ceasefire in Georgia: Putin Outmaneuvers the...   \n",
      "3  b'Body of 14 year old found in trunk; Latest (...   \n",
      "4  b'Missile That Killed 9 Inside Pakistan May Ha...   \n",
      "\n",
      "                                                Top6  \\\n",
      "0  b'150 Russian tanks have entered South Ossetia...   \n",
      "1  b'What were the Mossad with fraudulent New Zea...   \n",
      "2  b'Why Microsoft and Intel tried to kill the XO...   \n",
      "3  b'China has moved 10 *million* quake survivors...   \n",
      "4  b\"Rushdie Condemns Random House's Refusal to P...   \n",
      "\n",
      "                                                Top7  \\\n",
      "0  b\"Breaking: Georgia invades South Ossetia, Rus...   \n",
      "1  b'Russia angered by Israeli military sale to G...   \n",
      "2  b'Stratfor: The Russo-Georgian War and the Bal...   \n",
      "3  b\"Bush announces Operation Get All Up In Russi...   \n",
      "4  b'Poland and US agree to missle defense deal. ...   \n",
      "\n",
      "                                                Top8  \\\n",
      "0  b\"The 'enemy combatent' trials are nothing but...   \n",
      "1  b'An American citizen living in S.Ossetia blam...   \n",
      "2  b\"I'm Trying to Get a Sense of This Whole Geor...   \n",
      "3             b'Russian forces sink Georgian ships '   \n",
      "4  b'Will the Russians conquer Tblisi? Bet on it,...   \n",
      "\n",
      "                         ...                          \\\n",
      "0                        ...                           \n",
      "1                        ...                           \n",
      "2                        ...                           \n",
      "3                        ...                           \n",
      "4                        ...                           \n",
      "\n",
      "                                               Top16  \\\n",
      "0  b'Georgia Invades South Ossetia - if Russia ge...   \n",
      "1  b'Israel and the US behind the Georgian aggres...   \n",
      "2  b'U.S. troops still in Georgia (did you know t...   \n",
      "3                      b'Elephants extinct by 2020?'   \n",
      "4  b'Bank analyst forecast Georgian crisis 2 days...   \n",
      "\n",
      "                                               Top17  \\\n",
      "0                b'Al-Qaeda Faces Islamist Backlash'   \n",
      "1  b'\"Do not believe TV, neither Russian nor Geor...   \n",
      "2       b'Why Russias response to Georgia was right'   \n",
      "3  b'US humanitarian missions soon in Georgia - i...   \n",
      "4  b\"Georgia confict could set back Russia's US r...   \n",
      "\n",
      "                                               Top18  \\\n",
      "0  b'Condoleezza Rice: \"The US would not act to p...   \n",
      "1  b'Riots are still going on in Montreal (Canada...   \n",
      "2  b'Gorbachev accuses U.S. of making a \"serious ...   \n",
      "3             b\"Georgia's DDOS came from US sources\"   \n",
      "4  b'War in the Caucasus is as much the product o...   \n",
      "\n",
      "                                               Top19  \\\n",
      "0  b'This is a busy day:  The European Union has ...   \n",
      "1    b'China to overtake US as largest manufacturer'   \n",
      "2         b'Russia, Georgia, and NATO: Cold War Two'   \n",
      "3  b'Russian convoy heads into Georgia, violating...   \n",
      "4  b'\"Non-media\" photos of South Ossetia/Georgia ...   \n",
      "\n",
      "                                               Top20  \\\n",
      "0  b\"Georgia will withdraw 1,000 soldiers from Ir...   \n",
      "1                     b'War in South Ossetia [PICS]'   \n",
      "2  b'Remember that adorable 62-year-old who led y...   \n",
      "3  b'Israeli defence minister: US against strike ...   \n",
      "4  b'Georgian TV reporter shot by Russian sniper ...   \n",
      "\n",
      "                                               Top21  \\\n",
      "0  b'Why the Pentagon Thinks Attacking Iran is a ...   \n",
      "1  b'Israeli Physicians Group Condemns State Tort...   \n",
      "2          b'War in Georgia: The Israeli connection'   \n",
      "3                     b'Gorbachev: We Had No Choice'   \n",
      "4  b'Saudi Arabia: Mother moves to block child ma...   \n",
      "\n",
      "                                               Top22  \\\n",
      "0  b'Caucasus in crisis: Georgia invades South Os...   \n",
      "1  b' Russia has just beaten the United States ov...   \n",
      "2  b'All signs point to the US encouraging Georgi...   \n",
      "3  b'Witness: Russian forces head towards Tbilisi...   \n",
      "4   b'Taliban wages war on humanitarian aid workers'   \n",
      "\n",
      "                                               Top23  \\\n",
      "0  b'Indian shoe manufactory  - And again in a se...   \n",
      "1  b'Perhaps *the* question about the Georgia - R...   \n",
      "2  b'Christopher King argues that the US and NATO...   \n",
      "3  b' Quarter of Russians blame U.S. for conflict...   \n",
      "4  b'Russia: World  \"can forget about\" Georgia\\'s...   \n",
      "\n",
      "                                               Top24  \\\n",
      "0  b'Visitors Suffering from Mental Illnesses Ban...   \n",
      "1                 b'Russia is so much better at war'   \n",
      "2                        b'America: The New Mexico?'   \n",
      "3  b'Georgian president  says US military will ta...   \n",
      "4  b'Darfur rebels accuse Sudan of mounting major...   \n",
      "\n",
      "                                               Top25  \n",
      "0           b\"No Help for Mexico's Kidnapping Surge\"  \n",
      "1  b\"So this is what it's come to: trading sex fo...  \n",
      "2  b\"BBC NEWS | Asia-Pacific | Extinction 'by man...  \n",
      "3  b'2006: Nobel laureate Aleksander Solzhenitsyn...  \n",
      "4  b'Philippines : Peace Advocate say Muslims nee...  \n",
      "\n",
      "[5 rows x 27 columns]\n"
     ]
    }
   ],
   "source": [
    "data = pd.read_csv('/Users/hcnucai/Documents/KevinSwift/机器学习资料/02-自然语言处理班视频教程附讲义代码/课件资料/DLinNLP/input/Combined_News_DJIA.csv');\n",
    "#看数据\n",
    "print(data.head());"
   ]
  },
  {
   "cell_type": "code",
   "execution_count": 11,
   "metadata": {},
   "outputs": [
    {
     "name": "stdout",
     "output_type": "stream",
     "text": [
      "[ 'b\"Georgia \\'downs two Russian warplanes\\' as countries move to brink of war\"'\n",
      " \"b'BREAKING: Musharraf to be impeached.'\"\n",
      " \"b'Russia Today: Columns of troops roll into South Ossetia; footage from fighting (YouTube)'\"]\n"
     ]
    }
   ],
   "source": [
    "#分割训练和测试集\n",
    "X_train = train[train.columns[2:]]\n",
    "corpus = X_train.values.flatten().astype(str)\n",
    "\n",
    "X_train = X_train.values.astype(str)\n",
    "X_train = np.array([' '.join(x) for x in X_train])\n",
    "X_test = test[test.columns[2:]]\n",
    "X_test = X_test.values.astype(str)\n",
    "X_test = np.array([' '.join(x) for x in X_test])\n",
    "y_train = train['Label'].values\n",
    "y_test = test['Label'].values\n",
    "print (corpus[:3]);"
   ]
  },
  {
   "cell_type": "code",
   "execution_count": 12,
   "metadata": {},
   "outputs": [
    {
     "name": "stdout",
     "output_type": "stream",
     "text": [
      "[ 'b\"Georgia \\'downs two Russian warplanes\\' as countries move to brink of war\" b\\'BREAKING: Musharraf to be impeached.\\' b\\'Russia Today: Columns of troops roll into South Ossetia; footage from fighting (YouTube)\\' b\\'Russian tanks are moving towards the capital of South Ossetia, which has reportedly been completely destroyed by Georgian artillery fire\\' b\"Afghan children raped with \\'impunity,\\' U.N. official says - this is sick, a three year old was raped and they do nothing\" b\\'150 Russian tanks have entered South Ossetia whilst Georgia shoots down two Russian jets.\\' b\"Breaking: Georgia invades South Ossetia, Russia warned it would intervene on SO\\'s side\" b\"The \\'enemy combatent\\' trials are nothing but a sham: Salim Haman has been sentenced to 5 1/2 years, but will be kept longer anyway just because they feel like it.\" b\\'Georgian troops retreat from S. Osettain capital, presumably leaving several hundred people killed. [VIDEO]\\' b\\'Did the U.S. Prep Georgia for War with Russia?\\' b\\'Rice Gives Green Light for Israel to Attack Iran: Says U.S. has no veto over Israeli military ops\\' b\\'Announcing:Class Action Lawsuit on Behalf of American Public Against the FBI\\' b\"So---Russia and Georgia are at war and the NYT\\'s top story is opening ceremonies of the Olympics?  What a fucking disgrace and yet further proof of the decline of journalism.\" b\"China tells Bush to stay out of other countries\\' affairs\" b\\'Did World War III start today?\\' b\\'Georgia Invades South Ossetia - if Russia gets involved, will NATO absorb Georgia and unleash a full scale war?\\' b\\'Al-Qaeda Faces Islamist Backlash\\' b\\'Condoleezza Rice: \"The US would not act to prevent an Israeli strike on Iran.\" Israeli Defense Minister Ehud Barak: \"Israel is prepared for uncompromising victory in the case of military hostilities.\"\\' b\\'This is a busy day:  The European Union has approved new sanctions against Iran in protest at its nuclear programme.\\' b\"Georgia will withdraw 1,000 soldiers from Iraq to help fight off Russian forces in Georgia\\'s breakaway region of South Ossetia\" b\\'Why the Pentagon Thinks Attacking Iran is a Bad Idea - US News &amp; World Report\\' b\\'Caucasus in crisis: Georgia invades South Ossetia\\' b\\'Indian shoe manufactory  - And again in a series of \"you do not like your work?\"\\' b\\'Visitors Suffering from Mental Illnesses Banned from Olympics\\' b\"No Help for Mexico\\'s Kidnapping Surge\"']\n"
     ]
    }
   ],
   "source": [
    "print(x_train[:1]);"
   ]
  },
  {
   "cell_type": "code",
   "execution_count": 13,
   "metadata": {},
   "outputs": [
    {
     "name": "stdout",
     "output_type": "stream",
     "text": [
      "[0 1 0 0 1]\n"
     ]
    }
   ],
   "source": [
    "print (y_train[:5]);"
   ]
  },
  {
   "cell_type": "code",
   "execution_count": null,
   "metadata": {},
   "outputs": [
    {
     "name": "stdout",
     "output_type": "stream",
     "text": [
      "[nltk_data] Downloading package punkt to /Users/hcnucai/nltk_data...\n",
      "[nltk_data]   Unzipping tokenizers/punkt.zip.\n"
     ]
    }
   ],
   "source": [
    "#再把每个单词分割开\n",
    "import nltk\n",
    "nltk.download('punkt')\n",
    "from nltk.tokenize import word_tokenize\n",
    "\n",
    "corpus = [word_tokenize(x) for x in corpus]\n",
    "X_train = [word_tokenize(x) for x in X_train]\n",
    "X_test = [word_tokenize(x) for x in X_test]"
   ]
  },
  {
   "cell_type": "code",
   "execution_count": null,
   "metadata": {},
   "outputs": [],
   "source": []
  }
 ],
 "metadata": {
  "kernelspec": {
   "display_name": "Python 3",
   "language": "python",
   "name": "python3"
  },
  "language_info": {
   "codemirror_mode": {
    "name": "ipython",
    "version": 3
   },
   "file_extension": ".py",
   "mimetype": "text/x-python",
   "name": "python",
   "nbconvert_exporter": "python",
   "pygments_lexer": "ipython3",
   "version": "3.6.5"
  }
 },
 "nbformat": 4,
 "nbformat_minor": 2
}
